{
  "nbformat": 4,
  "nbformat_minor": 0,
  "metadata": {
    "colab": {
      "name": "imsproject.ipynb",
      "provenance": [],
      "collapsed_sections": []
    },
    "kernelspec": {
      "name": "python3",
      "display_name": "Python 3"
    },
    "language_info": {
      "name": "python"
    }
  },
  "cells": [
    {
      "cell_type": "code",
      "metadata": {
        "id": "CqH-UrKXtyHX"
      },
      "source": [
        "record = {10001 : {\"name\": \"dairy milk-silk\" , \"Price\": 120, \"quantity\" : 50},\n",
        "          10002 : {\"name\": \"kit-kat\", \"Price\": 100, \"quantity\" : 60},\n",
        "          10003 : {\"name\": \"milky-bar\", \"Price\": 80, \"quantity\" : 40},\n",
        "          10004: {\"name\": \"Dabar Chyawanprash\", \"Price\": 150, \"quantity\" : 70},\n",
        "          10005 : {\"name\": \"Santoor\", \"Price\": 30, \"quantity\" : 100},\n",
        "          10006 : {\"name\": \"Lux\", \"Price\": 25, \"quantity\" : 200},\n",
        "          10007 : {\"name\": \"Horllicks\", \"Price\": 100, \"quantity\" : 80},\n",
        "          10008 : {\"name\": \"Boost\", \"Price\": 120, \"quantity\" : 70},\n",
        "          10009 : {\"name\": \"Hide and Seek\", \"Price\": 50, \"quantity\" : 50},\n",
        "          10010 : {\"name\": \"Head and Shoulders\", \"Price\": 100, \"quantity\" : 80},\n",
        "          10011 : {\"name\": \"Fogg-perfume\", \"Price\": 200, \"quantity\" : 60},\n",
        "          10012 : {\"name\": \"Face wash\", \"Price\": 50, \"quantity\" : 200},\n",
        "          10013 : {\"name\": \"Face-cream\", \"Price\": 80, \"quantity\" : 200},\n",
        "          10014 : {\"name\": \"talcum-powder\", \"Price\": 60, \"quantity\" : 60},\n",
        "          10015 : {\"name\": \"tea-powder-500g\", \"Price\": 80, \"quantity\" : 200},\n",
        "          10016 : {\"name\": \"cashew -1kg\", \"Price\": 800, \"quantity\" : 30},\n",
        "          10017 : {\"name\": \"Ground-nut 1kg\", \"Price\": 100, \"quantity\" : 60},\n",
        "          10018 : {\"name\": \"Conditioner\", \"Price\": 30, \"quantity\" : 150},\n",
        "          10019 : {\"name\": \"sun lotion\", \"Price\": 80, \"quantity\" : 60},\n",
        "          10020 : {\"name\": \"vegetable-Oil 1kg\", \"Price\": 150, \"quantity\" : 60},\n",
        "          10021 : {\"name\": \"close-up\", \"Price\": 40, \"quantity\" : 300},\n",
        "          10022 : {\"name\": \"colgate\", \"Price\": 50, \"quantity\" : 100},\n",
        "          10023 : {\"name\": \"refine-oil\", \"Price\": 150, \"quantity\" : 50},\n",
        "          10024 : {\"name\": \"Parle-G\", \"Price\": 10, \"quantity\" : 1000},\n",
        "          10025 : {\"name\": \"Marie-Gold\", \"Price\": 10, \"quantity\" : 100},\n",
        "          10026 : {\"name\": \"Hair-Oil\", \"Price\": 20, \"quantity\" : 100},\n",
        "          10027 : {\"name\": \"detergent-powder\", \"Price\": 100, \"quantity\" : 60},\n",
        "          10028 : {\"name\": \"RIN-detergent cake\", \"Price\": 10, \"quantity\" : 100},\n",
        "          10029 : {\"name\": \"Tide-Rs-10\", \"Price\": 10, \"quantity\" : 50},\n",
        "          10030 : {\"name\": \"TATA-SALT\", \"Price\": 10, \"quantity\" : 80},\n",
        "}"
      ],
      "execution_count": 71,
      "outputs": []
    },
    {
      "cell_type": "code",
      "metadata": {
        "colab": {
          "base_uri": "https://localhost:8080/"
        },
        "id": "LB1Vt7L4u9sY",
        "outputId": "da946107-d77f-4522-9b2c-7dc583d53801"
      },
      "source": [
        "record"
      ],
      "execution_count": 3,
      "outputs": [
        {
          "output_type": "execute_result",
          "data": {
            "text/plain": [
              "{10001: {'Price': 120, 'name': 'dairy milk-silk', 'quantity': 50},\n",
              " 10002: {'Price': 100, 'name': 'kit-kat', 'quantity': 60},\n",
              " 10003: {'Price': 80, 'name': 'milky-bar', 'quantity': 40},\n",
              " 10004: {'Price': 150, 'name': 'Dabar Chyawanprash', 'quantity': 70},\n",
              " 10005: {'Price': 30, 'name': 'Santoor', 'quantity': 100},\n",
              " 10006: {'Price': 25, 'name': 'Lux', 'quantity': 200},\n",
              " 10007: {'Price': 100, 'name': 'Horllicks', 'quantity': 80},\n",
              " 10008: {'Price': 120, 'name': 'Boost', 'quantity': 70},\n",
              " 10009: {'Price': 50, 'name': 'Hide and Seek', 'quantity': 50},\n",
              " 10010: {'Price': 100, 'name': 'Head and Shoulders', 'quantity': 80},\n",
              " 10011: {'Price': 200, 'name': 'Fogg-perfume', 'quantity': 60},\n",
              " 10012: {'Price': 50, 'name': 'Face wash', 'quantity': 200},\n",
              " 10013: {'Price': 80, 'name': 'Face-cream', 'quantity': 200},\n",
              " 10014: {'Price': 60, 'name': 'talcum-powder', 'quantity': 60},\n",
              " 10015: {'Price': 80, 'name': 'tea-powder-500g', 'quantity': 200},\n",
              " 10016: {'Price': 800, 'name': 'cashew -1kg', 'quantity': 30},\n",
              " 10017: {'Price': 100, 'name': 'Ground-nut 1kg', 'quantity': 60},\n",
              " 10018: {'Price': 30, 'name': 'Conditioner', 'quantity': 150},\n",
              " 10019: {'Price': 80, 'name': 'sun lotion', 'quantity': 60},\n",
              " 10020: {'Price': 150, 'name': 'vegetable-Oil 1kg', 'quantity': 60},\n",
              " 10021: {'Price': 40, 'name': 'close-up', 'quantity': 300},\n",
              " 10022: {'Price': 50, 'name': 'colgate', 'quantity': 100},\n",
              " 10023: {'Price': 150, 'name': 'refine-oil', 'quantity': 50},\n",
              " 10024: {'Price': 10, 'name': 'Parle-G', 'quantity': 1000},\n",
              " 10025: {'Price': 10, 'name': 'Marie-Gold', 'quantity': 100},\n",
              " 10026: {'Price': 20, 'name': 'Hair-Oil', 'quantity': 100},\n",
              " 10027: {'Price': 100, 'name': 'detergent-powder', 'quantity': 60},\n",
              " 10028: {'Price': 10, 'name': 'RIN-detergent cake', 'quantity': 100},\n",
              " 10029: {'Price': 10, 'name': 'Tide-Rs-10', 'quantity': 50},\n",
              " 10030: {'Price': 10, 'name': 'TATA-SALT', 'quantity': 80}}"
            ]
          },
          "metadata": {},
          "execution_count": 3
        }
      ]
    },
    {
      "cell_type": "code",
      "metadata": {
        "id": "A76zmn9CxfbB"
      },
      "source": [
        "import json"
      ],
      "execution_count": 4,
      "outputs": []
    },
    {
      "cell_type": "code",
      "metadata": {
        "id": "apiuctGKxmH4"
      },
      "source": [
        "js = json.dumps(record)"
      ],
      "execution_count": 5,
      "outputs": []
    },
    {
      "cell_type": "code",
      "metadata": {
        "colab": {
          "base_uri": "https://localhost:8080/",
          "height": 137
        },
        "id": "edf4wjWWxuD6",
        "outputId": "a82d1c19-161e-4d11-d5c6-01c308b5efc8"
      },
      "source": [
        "js"
      ],
      "execution_count": 6,
      "outputs": [
        {
          "output_type": "execute_result",
          "data": {
            "application/vnd.google.colaboratory.intrinsic+json": {
              "type": "string"
            },
            "text/plain": [
              "'{\"10001\": {\"name\": \"dairy milk-silk\", \"Price\": 120, \"quantity\": 50}, \"10002\": {\"name\": \"kit-kat\", \"Price\": 100, \"quantity\": 60}, \"10003\": {\"name\": \"milky-bar\", \"Price\": 80, \"quantity\": 40}, \"10004\": {\"name\": \"Dabar Chyawanprash\", \"Price\": 150, \"quantity\": 70}, \"10005\": {\"name\": \"Santoor\", \"Price\": 30, \"quantity\": 100}, \"10006\": {\"name\": \"Lux\", \"Price\": 25, \"quantity\": 200}, \"10007\": {\"name\": \"Horllicks\", \"Price\": 100, \"quantity\": 80}, \"10008\": {\"name\": \"Boost\", \"Price\": 120, \"quantity\": 70}, \"10009\": {\"name\": \"Hide and Seek\", \"Price\": 50, \"quantity\": 50}, \"10010\": {\"name\": \"Head and Shoulders\", \"Price\": 100, \"quantity\": 80}, \"10011\": {\"name\": \"Fogg-perfume\", \"Price\": 200, \"quantity\": 60}, \"10012\": {\"name\": \"Face wash\", \"Price\": 50, \"quantity\": 200}, \"10013\": {\"name\": \"Face-cream\", \"Price\": 80, \"quantity\": 200}, \"10014\": {\"name\": \"talcum-powder\", \"Price\": 60, \"quantity\": 60}, \"10015\": {\"name\": \"tea-powder-500g\", \"Price\": 80, \"quantity\": 200}, \"10016\": {\"name\": \"cashew -1kg\", \"Price\": 800, \"quantity\": 30}, \"10017\": {\"name\": \"Ground-nut 1kg\", \"Price\": 100, \"quantity\": 60}, \"10018\": {\"name\": \"Conditioner\", \"Price\": 30, \"quantity\": 150}, \"10019\": {\"name\": \"sun lotion\", \"Price\": 80, \"quantity\": 60}, \"10020\": {\"name\": \"vegetable-Oil 1kg\", \"Price\": 150, \"quantity\": 60}, \"10021\": {\"name\": \"close-up\", \"Price\": 40, \"quantity\": 300}, \"10022\": {\"name\": \"colgate\", \"Price\": 50, \"quantity\": 100}, \"10023\": {\"name\": \"refine-oil\", \"Price\": 150, \"quantity\": 50}, \"10024\": {\"name\": \"Parle-G\", \"Price\": 10, \"quantity\": 1000}, \"10025\": {\"name\": \"Marie-Gold\", \"Price\": 10, \"quantity\": 100}, \"10026\": {\"name\": \"Hair-Oil\", \"Price\": 20, \"quantity\": 100}, \"10027\": {\"name\": \"detergent-powder\", \"Price\": 100, \"quantity\": 60}, \"10028\": {\"name\": \"RIN-detergent cake\", \"Price\": 10, \"quantity\": 100}, \"10029\": {\"name\": \"Tide-Rs-10\", \"Price\": 10, \"quantity\": 50}, \"10030\": {\"name\": \"TATA-SALT\", \"Price\": 10, \"quantity\": 80}}'"
            ]
          },
          "metadata": {},
          "execution_count": 6
        }
      ]
    },
    {
      "cell_type": "code",
      "metadata": {
        "id": "rRBIkl7oxxaF"
      },
      "source": [
        "fd = open(\"record.js\",'w')\n",
        "fd.write(js)\n",
        "fd.close()"
      ],
      "execution_count": 7,
      "outputs": []
    },
    {
      "cell_type": "code",
      "metadata": {
        "id": "E3ay9iiJyFqQ"
      },
      "source": [
        "import json\n",
        "fd = open(\"record.js\",'r')\n",
        "r = fd.read()\n",
        "fd.close()\n",
        "records = json.loads(r)"
      ],
      "execution_count": 19,
      "outputs": []
    },
    {
      "cell_type": "code",
      "metadata": {
        "colab": {
          "base_uri": "https://localhost:8080/",
          "height": 137
        },
        "id": "ilTI94ulyRAq",
        "outputId": "c4dd4f79-3567-4404-a433-2a49ead51c7d"
      },
      "source": [
        "js"
      ],
      "execution_count": 9,
      "outputs": [
        {
          "output_type": "execute_result",
          "data": {
            "application/vnd.google.colaboratory.intrinsic+json": {
              "type": "string"
            },
            "text/plain": [
              "'{\"10001\": {\"name\": \"dairy milk-silk\", \"Price\": 120, \"quantity\": 50}, \"10002\": {\"name\": \"kit-kat\", \"Price\": 100, \"quantity\": 60}, \"10003\": {\"name\": \"milky-bar\", \"Price\": 80, \"quantity\": 40}, \"10004\": {\"name\": \"Dabar Chyawanprash\", \"Price\": 150, \"quantity\": 70}, \"10005\": {\"name\": \"Santoor\", \"Price\": 30, \"quantity\": 100}, \"10006\": {\"name\": \"Lux\", \"Price\": 25, \"quantity\": 200}, \"10007\": {\"name\": \"Horllicks\", \"Price\": 100, \"quantity\": 80}, \"10008\": {\"name\": \"Boost\", \"Price\": 120, \"quantity\": 70}, \"10009\": {\"name\": \"Hide and Seek\", \"Price\": 50, \"quantity\": 50}, \"10010\": {\"name\": \"Head and Shoulders\", \"Price\": 100, \"quantity\": 80}, \"10011\": {\"name\": \"Fogg-perfume\", \"Price\": 200, \"quantity\": 60}, \"10012\": {\"name\": \"Face wash\", \"Price\": 50, \"quantity\": 200}, \"10013\": {\"name\": \"Face-cream\", \"Price\": 80, \"quantity\": 200}, \"10014\": {\"name\": \"talcum-powder\", \"Price\": 60, \"quantity\": 60}, \"10015\": {\"name\": \"tea-powder-500g\", \"Price\": 80, \"quantity\": 200}, \"10016\": {\"name\": \"cashew -1kg\", \"Price\": 800, \"quantity\": 30}, \"10017\": {\"name\": \"Ground-nut 1kg\", \"Price\": 100, \"quantity\": 60}, \"10018\": {\"name\": \"Conditioner\", \"Price\": 30, \"quantity\": 150}, \"10019\": {\"name\": \"sun lotion\", \"Price\": 80, \"quantity\": 60}, \"10020\": {\"name\": \"vegetable-Oil 1kg\", \"Price\": 150, \"quantity\": 60}, \"10021\": {\"name\": \"close-up\", \"Price\": 40, \"quantity\": 300}, \"10022\": {\"name\": \"colgate\", \"Price\": 50, \"quantity\": 100}, \"10023\": {\"name\": \"refine-oil\", \"Price\": 150, \"quantity\": 50}, \"10024\": {\"name\": \"Parle-G\", \"Price\": 10, \"quantity\": 1000}, \"10025\": {\"name\": \"Marie-Gold\", \"Price\": 10, \"quantity\": 100}, \"10026\": {\"name\": \"Hair-Oil\", \"Price\": 20, \"quantity\": 100}, \"10027\": {\"name\": \"detergent-powder\", \"Price\": 100, \"quantity\": 60}, \"10028\": {\"name\": \"RIN-detergent cake\", \"Price\": 10, \"quantity\": 100}, \"10029\": {\"name\": \"Tide-Rs-10\", \"Price\": 10, \"quantity\": 50}, \"10030\": {\"name\": \"TATA-SALT\", \"Price\": 10, \"quantity\": 80}}'"
            ]
          },
          "metadata": {},
          "execution_count": 9
        }
      ]
    },
    {
      "cell_type": "markdown",
      "metadata": {
        "id": "cn4PBqS2ys3-"
      },
      "source": [
        "# PURCHASE ITEMS"
      ]
    },
    {
      "cell_type": "code",
      "metadata": {
        "colab": {
          "base_uri": "https://localhost:8080/"
        },
        "id": "XA7LPxYby0Ww",
        "outputId": "6e11e1e6-7a65-4c5c-c336-312751fa5d02"
      },
      "source": [
        "n=int(input(\"enter the number of products \\n\"))\n",
        "sum=int(0)\n",
        "count=int(0)\n",
        "for i in range (0,n):\n",
        "  ui_prod  = int(input(\"Enter the product_Id: \"))\n",
        "  ui_quant = int(input(\"Enter the quantity: \"))\n",
        "  print(\"***************************\")\n",
        "  print(\"Product: \", record[ui_prod]['name'])\n",
        "  print(\"Price: \", record[ui_prod]['Price'])\n",
        "  print( \"quantity: \",ui_quant)\n",
        "  count=count+ui_quant\n",
        "  print(\"Billing Amount: \", record[ui_prod]['Price'] * ui_quant)\n",
        "  record[ui_prod]['quantity'] = record[ui_prod]['quantity'] - ui_quant\n",
        "  sum=sum+record[ui_prod]['Price'] * ui_quant\n",
        "print(\"--------------------------------------\")\n",
        "print(\"number of product purchased:\",n)\n",
        "print(\"total number of items:\",count)\n",
        "print(\"Total amount:\",sum)\n",
        "print(\"________________________________\")\n",
        "print(\"Thank You   Visit Again\")\n",
        "\n"
      ],
      "execution_count": 104,
      "outputs": [
        {
          "output_type": "stream",
          "name": "stdout",
          "text": [
            "enter the number of products \n",
            "5\n",
            "Enter the product_Id: 10001\n",
            "Enter the quantity: 15\n",
            "***************************\n",
            "Product:  dairy milk-silk\n",
            "Price:  120\n",
            "quantity:  15\n",
            "Billing Amount:  1800\n",
            "Enter the product_Id: 10010\n",
            "Enter the quantity: 15\n",
            "***************************\n",
            "Product:  Head and Shoulders\n",
            "Price:  100\n",
            "quantity:  15\n",
            "Billing Amount:  1500\n",
            "Enter the product_Id: 10020\n",
            "Enter the quantity: 20\n",
            "***************************\n",
            "Product:  vegetable-Oil 1kg\n",
            "Price:  150\n",
            "quantity:  20\n",
            "Billing Amount:  3000\n",
            "Enter the product_Id: 10005\n",
            "Enter the quantity: 20\n",
            "***************************\n",
            "Product:  Santoor\n",
            "Price:  30\n",
            "quantity:  20\n",
            "Billing Amount:  600\n",
            "Enter the product_Id: 10014\n",
            "Enter the quantity: 15\n",
            "***************************\n",
            "Product:  talcum-powder\n",
            "Price:  60\n",
            "quantity:  15\n",
            "Billing Amount:  900\n",
            "--------------------------------------\n",
            "number of product purchased: 5\n",
            "total number of items: 85\n",
            "Total amount: 7800\n",
            "________________________________\n",
            "Thank You   Visit Again\n"
          ]
        }
      ]
    },
    {
      "cell_type": "markdown",
      "metadata": {
        "id": "S2nGKocX8B-z"
      },
      "source": [
        "# UPDATE"
      ]
    },
    {
      "cell_type": "code",
      "metadata": {
        "id": "st0Hhj4G5kXZ"
      },
      "source": [
        "js = json.dumps(record)\n",
        "fd = open(\"new.json\",'w')\n",
        "for ui_prod in record:\n",
        "   record[ui_prod]['quantity'] = record[ui_prod]['quantity'] - ui_quant\n",
        "   fd.write(js) \n",
        "fd.close()"
      ],
      "execution_count": 103,
      "outputs": []
    },
    {
      "cell_type": "markdown",
      "metadata": {
        "id": "dflEu73p8cA8"
      },
      "source": [
        "# SALES"
      ]
    },
    {
      "cell_type": "code",
      "metadata": {
        "id": "oiiFYglI8gRn"
      },
      "source": [
        "for i in range(0,n):\n",
        "  {'prod' : ui_prod, 'quantity' : ui_quant, 'amount': record[ui_prod]['Price'] * ui_quant}"
      ],
      "execution_count": 98,
      "outputs": []
    },
    {
      "cell_type": "code",
      "metadata": {
        "id": "5gmVeSA3WJoK"
      },
      "source": [
        "\n",
        "sales = {1 : {'product' : ui_prod, 'quantity' : ui_quant, 'amount': record[ui_prod]['Price'] * ui_quant},\n",
        "         2 : {'product' : ui_prod, 'quantity' : ui_quant, 'amount': record[ui_prod]['Price'] * ui_quant},\n",
        "         3 : {'product' : ui_prod, 'quantity' : ui_quant, 'amount': record[ui_prod]['Price'] * ui_quant}\n",
        "         \n",
        "         }"
      ],
      "execution_count": 100,
      "outputs": []
    },
    {
      "cell_type": "code",
      "metadata": {
        "id": "ohsR3t43XF0e"
      },
      "source": [
        "sale = json.dumps(sales)"
      ],
      "execution_count": 99,
      "outputs": []
    },
    {
      "cell_type": "code",
      "metadata": {
        "colab": {
          "base_uri": "https://localhost:8080/"
        },
        "id": "pFc74i_TXRM1",
        "outputId": "2e3d0b20-febe-4030-add9-c40cd8400997"
      },
      "source": [
        "sales"
      ],
      "execution_count": 92,
      "outputs": [
        {
          "output_type": "execute_result",
          "data": {
            "text/plain": [
              "{1: {'amount': 300, 'product': 10018, 'quantity': 10},\n",
              " 2: {'amount': 300, 'product': 10018, 'quantity': 10},\n",
              " 3: {'amount': 300, 'product': 10018, 'quantity': 10}}"
            ]
          },
          "metadata": {},
          "execution_count": 92
        }
      ]
    },
    {
      "cell_type": "code",
      "metadata": {
        "id": "5vtWIUyOXq3D"
      },
      "source": [
        ""
      ],
      "execution_count": 101,
      "outputs": []
    }
  ]
}